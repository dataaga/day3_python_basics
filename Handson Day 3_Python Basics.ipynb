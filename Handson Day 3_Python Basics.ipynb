{
 "cells": [
  {
   "cell_type": "code",
   "execution_count": 1,
   "id": "3c3f93c0",
   "metadata": {},
   "outputs": [
    {
     "data": {
      "text/plain": [
       "2"
      ]
     },
     "execution_count": 1,
     "metadata": {},
     "output_type": "execute_result"
    }
   ],
   "source": [
    "1 + 1"
   ]
  },
  {
   "cell_type": "code",
   "execution_count": 2,
   "id": "8bbfee31",
   "metadata": {},
   "outputs": [
    {
     "name": "stdout",
     "output_type": "stream",
     "text": [
      "Nama saya adalah aku\n"
     ]
    }
   ],
   "source": [
    "print('Nama saya adalah aku')"
   ]
  },
  {
   "cell_type": "code",
   "execution_count": 3,
   "id": "a95aed8c",
   "metadata": {},
   "outputs": [
    {
     "name": "stdout",
     "output_type": "stream",
     "text": [
      "Program biasa saja\n",
      "Ini adalah tulisan\n"
     ]
    }
   ],
   "source": [
    "print('Program biasa saja')\n",
    "print('Ini adalah tulisan')"
   ]
  },
  {
   "cell_type": "markdown",
   "id": "d5546957",
   "metadata": {},
   "source": [
    "contoh code tidak valid:"
   ]
  },
  {
   "cell_type": "code",
   "execution_count": 4,
   "id": "e2747de2",
   "metadata": {},
   "outputs": [
    {
     "ename": "NameError",
     "evalue": "name 'wkwkkwwk' is not defined",
     "output_type": "error",
     "traceback": [
      "\u001b[0;31m---------------------------------------------------------------------------\u001b[0m",
      "\u001b[0;31mNameError\u001b[0m                                 Traceback (most recent call last)",
      "Input \u001b[0;32mIn [4]\u001b[0m, in \u001b[0;36m<cell line: 1>\u001b[0;34m()\u001b[0m\n\u001b[0;32m----> 1\u001b[0m \u001b[43mwkwkkwwk\u001b[49m\n",
      "\u001b[0;31mNameError\u001b[0m: name 'wkwkkwwk' is not defined"
     ]
    }
   ],
   "source": [
    "wkwkkwwk"
   ]
  },
  {
   "cell_type": "markdown",
   "id": "21394c86",
   "metadata": {},
   "source": [
    "contoh komentar:"
   ]
  },
  {
   "cell_type": "code",
   "execution_count": 5,
   "id": "96be687d",
   "metadata": {},
   "outputs": [
    {
     "data": {
      "text/plain": [
       "366"
      ]
     },
     "execution_count": 5,
     "metadata": {},
     "output_type": "execute_result"
    }
   ],
   "source": [
    "300 + 66 #Contoh Penjumlahan"
   ]
  }
 ],
 "metadata": {
  "kernelspec": {
   "display_name": "Python 3 (ipykernel)",
   "language": "python",
   "name": "python3"
  },
  "language_info": {
   "codemirror_mode": {
    "name": "ipython",
    "version": 3
   },
   "file_extension": ".py",
   "mimetype": "text/x-python",
   "name": "python",
   "nbconvert_exporter": "python",
   "pygments_lexer": "ipython3",
   "version": "3.9.12"
  }
 },
 "nbformat": 4,
 "nbformat_minor": 5
}
